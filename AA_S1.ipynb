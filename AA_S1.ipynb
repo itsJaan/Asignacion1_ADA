{
  "nbformat": 4,
  "nbformat_minor": 0,
  "metadata": {
    "colab": {
      "name": "AA_S1.ipynb",
      "provenance": [],
      "collapsed_sections": []
    },
    "kernelspec": {
      "name": "python3",
      "display_name": "Python 3"
    }
  },
  "cells": [
    {
      "cell_type": "markdown",
      "metadata": {
        "id": "0pwWliU2dPJu"
      },
      "source": [
        "Bubble Sort\n"
      ]
    },
    {
      "cell_type": "code",
      "metadata": {
        "id": "mGHrTqmHdOE1"
      },
      "source": [
        "from random import seed\n",
        "from random import randint\n",
        "import numpy as np\n",
        "\n",
        "def bubble_sort(cant):\n",
        "    listaDesordenada = []\n",
        "    seed(1)\n",
        "    for _ in range(cant):\n",
        "      listaDesordenada = np.append(listaDesordenada, randint(0,50))\n",
        "    veces = 0\n",
        "    for i in range(len(listaDesordenada)):\n",
        "        for j in range(len(listaDesordenada) - 1):\n",
        "            veces+=1\n",
        "            if listaDesordenada[j] > listaDesordenada[j+1]:\n",
        "                listaDesordenada[j], listaDesordenada[j+1] = listaDesordenada[j+1], listaDesordenada[j]\n",
        "    print(listaDesordenada)\n",
        "    return veces\n",
        "\n",
        "ns=[10, 50, 100, 1000, 5000, 10000, 20000]\n",
        "for n in ns:\n",
        "  veces = bubble_sort(n);\n",
        "  print(n , veces)"
      ],
      "execution_count": null,
      "outputs": []
    },
    {
      "cell_type": "markdown",
      "metadata": {
        "id": "RX5Syydjd4XV"
      },
      "source": [
        "Fibonacci Iterativo"
      ]
    },
    {
      "cell_type": "code",
      "metadata": {
        "id": "SiAwH3DEd_aZ"
      },
      "source": [
        "def fibonacci(cant):\n",
        "  first = 1\n",
        "  second = 1\n",
        "  cont = 0\n",
        "  temp = 0\n",
        "\n",
        "  while(cont < cant):\n",
        "    print(first)\n",
        "    temp = first + second\n",
        "    first = second\n",
        "    second = temp\n",
        "    cont = cont + 1\n",
        "\n",
        "fibonacci(5)"
      ],
      "execution_count": null,
      "outputs": []
    },
    {
      "cell_type": "markdown",
      "metadata": {
        "id": "Wc7K_jv-eVde"
      },
      "source": [
        "Fibonacci Recursivo"
      ]
    },
    {
      "cell_type": "code",
      "metadata": {
        "id": "dnPDLpYKeUbd"
      },
      "source": [
        "def FibonacciRecursivo(cant,first,second):\n",
        "  if cant > 0:\n",
        "    print(first)\n",
        "    FibonacciRecursivo(cant - 1,second,first+second)"
      ],
      "execution_count": null,
      "outputs": []
    },
    {
      "cell_type": "markdown",
      "metadata": {
        "id": "SONnx6DpeYXN"
      },
      "source": [
        "Insertion Sort"
      ]
    },
    {
      "cell_type": "code",
      "metadata": {
        "id": "UoeDdm30eD45"
      },
      "source": [
        "from random import seed\n",
        "from random import randint\n",
        "import numpy as np\n",
        "\n",
        "def bubble_sort(cant):\n",
        "    listaDesordenada = []\n",
        "    seed(1)\n",
        "    for _ in range(cant):\n",
        "      listaDesordenada = np.append(listaDesordenada, randint(0,50))\n",
        "    veces = 0\n",
        "    for i in range(len(listaDesordenada)):\n",
        "        for j in range(i,0,-1):\n",
        "            veces+=1\n",
        "            if listaDesordenada[j] < listaDesordenada[j-1]:\n",
        "                listaDesordenada[j], listaDesordenada[j-1] = listaDesordenada[j-1], listaDesordenada[j]\n",
        "            else:\n",
        "              break\n",
        "    #print(listaDesordenada)\n",
        "    return veces\n",
        "\n",
        "ns=[10, 50, 100, 1000, 5000, 10000, 20000]\n",
        "for n in ns:\n",
        "  veces = bubble_sort(n);\n",
        "  print(n , veces)"
      ],
      "execution_count": null,
      "outputs": []
    }
  ]
}